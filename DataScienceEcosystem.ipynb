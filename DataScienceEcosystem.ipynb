{
 "cells": [
  {
   "cell_type": "markdown",
   "id": "a04d4ede-939d-43f4-a483-9f6e94510179",
   "metadata": {},
   "source": [
    "# Data Science Tools and Ecosystem\n"
   ]
  },
  {
   "cell_type": "markdown",
   "id": "04848420-5423-4ee6-b7aa-26d0937c9867",
   "metadata": {},
   "source": [
    "In diesem Notebook werden die Werkzeuge und Ökosysteme der Datenwissenschaft zusammengefasst."
   ]
  },
  {
   "cell_type": "markdown",
   "id": "16aaaf64-8736-4eb4-b8a5-f19873279589",
   "metadata": {},
   "source": [
    "**Ziele:**\n",
    "- Beliebte Sprachen für Datenwissenschaft auflisten\n",
    "- Beliebte Biblieotheken für Datenwissenschaft auflisten\n",
    "- Tools der Datenwissenschaften\n",
    "- Auswertung arithmetischer Ausdrücke\n"
   ]
  },
  {
   "cell_type": "markdown",
   "id": "e5510b5a-eb67-4cb1-9158-638678795df3",
   "metadata": {},
   "source": [
    "Einige der beliebten Sprachen, die Datenwissenschaftler verwenden, sind:\n",
    "\n",
    "1. Python\n",
    "2. R\n",
    "3. Julia\n",
    "4. SQL\n"
   ]
  },
  {
   "cell_type": "markdown",
   "id": "223e6196-5caf-49b8-9b0b-b8d1e9f1c1c2",
   "metadata": {},
   "source": [
    "Einige der häufig verwendeten Bibliotheken, die von Datenwissenschaftlern verwendet werden, sind:\n",
    "\n",
    "1. Matplotlib\n",
    "2. Numpy\n",
    "3. Pandas\n",
    "4. Pyplot\n",
    "5. Tensorflow"
   ]
  },
  {
   "cell_type": "markdown",
   "id": "24234c9a-abdd-46bb-b4b8-f59f4d9d8ed9",
   "metadata": {},
   "source": [
    "| Data Science Tools |\n",
    "| --- |\n",
    "|Spyder|\n",
    "|Jupyter Notebook|\n",
    "|VS Code|"
   ]
  },
  {
   "cell_type": "markdown",
   "id": "38d7b8e9-9fe1-4043-90a9-6fac9f2b5a2b",
   "metadata": {},
   "source": [
    "### Unten sind einige Beispiele zur Auswertung arithmetischer Ausdrücke in Python."
   ]
  },
  {
   "cell_type": "code",
   "execution_count": 2,
   "id": "34666db6-3b2b-46ab-98ed-7c9d0b38a914",
   "metadata": {},
   "outputs": [
    {
     "data": {
      "text/plain": [
       "17"
      ]
     },
     "execution_count": 2,
     "metadata": {},
     "output_type": "execute_result"
    }
   ],
   "source": [
    "#Dies ist ein einfacher arithmetischer Ausdruck, um Ganzzahlen zu multiplizieren und dann zu addieren\n",
    "(3*4)+5"
   ]
  },
  {
   "cell_type": "code",
   "execution_count": 6,
   "id": "defe72b8-8980-4c23-8afb-3bfaf6b1ee53",
   "metadata": {},
   "outputs": [
    {
     "data": {
      "text/plain": [
       "'3.3333333333333335 h'"
      ]
     },
     "execution_count": 6,
     "metadata": {},
     "output_type": "execute_result"
    }
   ],
   "source": [
    "#Dies wandelt 200 Minuten in Stunden um, indem durch 60 geteilt wird\n",
    "result = 200/60\n",
    "\n",
    "str(result) + \" h\""
   ]
  },
  {
   "cell_type": "code",
   "execution_count": null,
   "id": "55dccf2e-38ad-40e8-abb5-54765358ec99",
   "metadata": {},
   "outputs": [],
   "source": []
  }
 ],
 "metadata": {
  "kernelspec": {
   "display_name": "Python [conda env:base] *",
   "language": "python",
   "name": "conda-base-py"
  },
  "language_info": {
   "codemirror_mode": {
    "name": "ipython",
    "version": 3
   },
   "file_extension": ".py",
   "mimetype": "text/x-python",
   "name": "python",
   "nbconvert_exporter": "python",
   "pygments_lexer": "ipython3",
   "version": "3.12.7"
  }
 },
 "nbformat": 4,
 "nbformat_minor": 5
}
